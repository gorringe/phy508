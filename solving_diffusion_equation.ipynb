{
 "cells": [
  {
   "cell_type": "code",
   "execution_count": 1,
   "id": "af54276b",
   "metadata": {},
   "outputs": [],
   "source": [
    "import numpy as np\n",
    "import matplotlib.pyplot as plt"
   ]
  },
  {
   "cell_type": "code",
   "execution_count": 4,
   "id": "0c274007",
   "metadata": {},
   "outputs": [
    {
     "data": {
      "text/plain": [
       "(0.0, 60.0)"
      ]
     },
     "execution_count": 4,
     "metadata": {},
     "output_type": "execute_result"
    },
    {
     "data": {
      "image/png": "[encoded data removed]",
      "text/plain": [
       "<Figure size 432x288 with 1 Axes>"
      ]
     },
     "metadata": {
      "needs_background": "light"
     },
     "output_type": "display_data"
    }
   ],
   "source": [
    "L = 0.01      # steel thickness\n",
    "D = 4.25e-6   # thermal diffusivity\n",
    "N = 100       # space grid size\n",
    "a = L/N       # space grid spacing\n",
    "h = 1e-4      # time step size\n",
    "\n",
    "Tlo = 0.0     # low temperature [deg C]\n",
    "Tmi = 10.0    # middle temperature [deg C]\n",
    "Thi = 50.0    # high temperature [deg C]\n",
    "\n",
    "T = np.empty(N+1,float) # array of N temps\n",
    "T[0] = Thi     # set temp for high temp BC\n",
    "T[N] = Tlo     # set temp for low temp BC\n",
    "T[1:N] = Tmi   # set initial temperature between BCs\n",
    "\n",
    "Tp = np.empty(N+1,float) # updated array of N temps\n",
    "Tp[0] = Thi    # set temp for high temp BC\n",
    "Tp[N] = Tlo    # set temp for low temp BC\n",
    "\n",
    "plt.plot(T)\n",
    "plt.xlabel(\"x\")\n",
    "plt.ylabel(\"T\")\n",
    "plt.ylim(0.,60.)"
   ]
  },
  {
   "cell_type": "code",
   "execution_count": 5,
   "id": "3893797d",
   "metadata": {},
   "outputs": [
    {
     "name": "stdout",
     "output_type": "stream",
     "text": [
      "[5.00000000e+01 1.99666979e+01 6.48644499e+00 6.31296686e+00\n",
      " 4.01979460e+00 5.85688321e+00 3.97479477e+00 5.84984061e+00\n",
      " 3.97432003e+00 5.84977021e+00 3.97431643e+00 5.84976968e+00\n",
      " 3.97431641e+00 5.84976968e+00 3.97431641e+00 5.84976968e+00\n",
      " 3.97431641e+00 5.84976968e+00 6.92636569e+37 2.50503001e+40\n",
      " 4.06665143e+41 4.05280002e+42 1.17114774e+43 4.37610066e+42\n",
      " 8.82250551e+41 1.67502949e+41 1.72545583e+40 2.71843991e+39\n",
      " 1.87788463e+38 2.78792813e+37 1.44816565e+36 2.13194746e+35\n",
      " 8.87200766e+33 1.32687091e+33 4.60552850e+31 7.08476400e+30\n",
      " 2.10907572e+29 3.35910541e+28 8.75362482e+26 1.44836977e+26\n",
      " 3.35609258e+24 5.77802777e+23 1.20527953e+22 2.16033867e+21\n",
      " 4.09756874e+19 7.64550366e+18 1.32951933e+17 2.58113042e+16\n",
      " 4.14378206e+14 8.36443069e+13 1.24706697e+12 2.61506989e+11\n",
      " 3.63929455e+09 7.92068207e+08 1.03348879e+07 2.33231392e+06\n",
      " 2.86479340e+04 6.70204229e+03 8.16491977e+01 2.46417897e+01\n",
      " 4.18084057e+00 5.90142958e+00 3.97485579e+00 5.84990905e+00\n",
      " 3.97431779e+00 5.84977005e+00 3.97431641e+00 5.84976968e+00\n",
      " 3.97431641e+00 5.84976968e+00 3.97431641e+00 5.84976968e+00\n",
      " 3.97431641e+00 5.84976968e+00 3.97431641e+00 5.84976968e+00\n",
      " 3.97431641e+00 5.84976968e+00 3.97431641e+00 5.84976968e+00\n",
      " 3.97431641e+00 5.84976968e+00 3.97431641e+00 5.84976968e+00\n",
      " 3.97431641e+00 5.84976968e+00 3.97431641e+00 2.33925262e+72\n",
      " 2.51813664e+74 3.19488484e+76 4.15492837e+77 3.34239050e+78\n",
      " 8.65248182e+78 3.21173044e+78 6.45126071e+77 1.22376863e+77\n",
      " 1.25889912e+76 1.98296414e+75 1.36878530e+74 2.02770369e+73\n",
      " 0.00000000e+00]\n"
     ]
    },
    {
     "data": {
      "image/png": "[encoded data removed]",
      "text/plain": [
       "<Figure size 432x288 with 1 Axes>"
      ]
     },
     "metadata": {
      "needs_background": "light"
     },
     "output_type": "display_data"
    }
   ],
   "source": [
    "t = 0.0\n",
    "tend = 0.001\n",
    "c = h*D/(a*a) # difference eqn parameter\n",
    "\n",
    "while t < tend: # step thru time slices\n",
    "    \n",
    "    for i in range(1,N):     # calc temp values at next time      \n",
    "        Tp[i] = T[i] + c*(T[i+1]+T[i-1]-2*T[i])\n",
    "        T,Tp = Tp,T\n",
    "        \n",
    "    t += h\n",
    "\n",
    "plt.plot(T)\n",
    "plt.xlabel(\"x\")\n",
    "plt.ylabel(\"T\")\n",
    "plt.ylim(0.,60.)\n",
    "print(T)"
   ]
  },
  {
   "cell_type": "code",
   "execution_count": null,
   "id": "41230ffc",
   "metadata": {},
   "outputs": [],
   "source": [
    "t1 = 0.01 # times for plotting temps\n",
    "t2 = 0.10\n",
    "t3 = 0.25\n",
    "t4 = 0.50\n",
    "t5 = 1.00\n",
    "epsilon = h/1000.\n",
    "tend = t1 + epsilon # stop calc time\n",
    "\n",
    "   \n",
    "    if abs(t-t1)<epsilon:\n",
    "        plt.plot(T)\n",
    "    if abs(t-t2)<epsilon:\n",
    "        plt.plot(T)\n",
    "    if abs(t-t3)<epsilon:\n",
    "        plt.plot(T)\n",
    "    if abs(t-t4)<epsilon:\n",
    "        plt.plot(T)\n",
    "    if abs(t-t5)<epsilon:\n",
    "        plt.plot(T)\n"
   ]
  },
  {
   "cell_type": "code",
   "execution_count": null,
   "id": "4b486dc0",
   "metadata": {},
   "outputs": [],
   "source": []
  }
 ],
 "metadata": {
  "kernelspec": {
   "display_name": "Python 3",
   "language": "python",
   "name": "python3"
  },
  "language_info": {
   "codemirror_mode": {
    "name": "ipython",
    "version": 3
   },
   "file_extension": ".py",
   "mimetype": "text/x-python",
   "name": "python",
   "nbconvert_exporter": "python",
   "pygments_lexer": "ipython3",
   "version": "3.8.8"
  }
 },
 "nbformat": 4,
 "nbformat_minor": 5
}
