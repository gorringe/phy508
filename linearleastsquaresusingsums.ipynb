{
 "cells": [
  {
   "cell_type": "code",
   "execution_count": 1,
   "id": "1821f6be",
   "metadata": {},
   "outputs": [],
   "source": [
    "import matplotlib.pyplot as plt\n",
    "import scipy.optimize as fit\n",
    "import numpy as np"
   ]
  },
  {
   "cell_type": "code",
   "execution_count": 2,
   "id": "6d3a54b5",
   "metadata": {},
   "outputs": [],
   "source": [
    "N = 10\n",
    "m = 1.0\n",
    "c = -5.0\n",
    "s = 1.0"
   ]
  },
  {
   "cell_type": "code",
   "execution_count": 3,
   "id": "7012e1da",
   "metadata": {},
   "outputs": [
    {
     "data": {
      "text/plain": [
       "Text(0, 0.5, 'y_i')"
      ]
     },
     "execution_count": 3,
     "metadata": {},
     "output_type": "execute_result"
    },
    {
     "data": {
      "image/png": "[encoded data removed]",
      "text/plain": [
       "<Figure size 432x288 with 1 Axes>"
      ]
     },
     "metadata": {
      "needs_background": "light"
     },
     "output_type": "display_data"
    }
   ],
   "source": [
    "np.random.seed(1)\n",
    "xi = np.linspace( 1, N, num=N)                    # indep. variable\n",
    "yi = m*xi + c                                     #   dep. variable\n",
    "yi += np.random.normal( loc=0.0, scale=s, size=N) #  variable error\n",
    "si = s*np.ones( (N))\n",
    "plt.errorbar(xi, yi, yerr=si,fmt='mo')\n",
    "plt.xlabel(\"x_i\")\n",
    "plt.ylabel(\"y_i\")"
   ]
  },
  {
   "cell_type": "code",
   "execution_count": 4,
   "id": "cc5fa837",
   "metadata": {},
   "outputs": [],
   "source": [
    "meanx = np.sum( xi)\n",
    "meany = np.sum( yi)\n",
    "meanx2 = np.sum( xi**2)\n",
    "meany2 = np.sum( yi**2)\n",
    "meanxy = np.sum( xi*yi)\n",
    "meanis2 = np.sum( 1./si**2)"
   ]
  },
  {
   "cell_type": "code",
   "execution_count": 8,
   "id": "5d788fb3",
   "metadata": {},
   "outputs": [
    {
     "name": "stdout",
     "output_type": "stream",
     "text": [
      "[0.9622627] 0.012121212121212121 [-4.88958576] 0.4666666666666667 -0.06666666666666667\n"
     ]
    }
   ],
   "source": [
    "M = np.array([[meanx2,meanx],[meanx,meanis2]])\n",
    "V = np.array([[meanxy],[meany]])\n",
    "invM = np.linalg.inv(M)\n",
    "pars = np.dot(invM,V)\n",
    "mf = pars[0]\n",
    "cf = pars[1]\n",
    "dmf2 = N/(N*meanx2-meanx*meanx)\n",
    "dcf2 = meanx2/(N*meanx2-meanx*meanx)\n",
    "cov = -meanx/(N*meanx2-meanx*meanx)\n",
    "print(mf,dmf2,cf,dcf2,cov)"
   ]
  },
  {
   "cell_type": "code",
   "execution_count": 9,
   "id": "bda19658",
   "metadata": {},
   "outputs": [
    {
     "data": {
      "text/plain": [
       "[<matplotlib.lines.Line2D at 0x7fc9e8b00eb0>]"
      ]
     },
     "execution_count": 9,
     "metadata": {},
     "output_type": "execute_result"
    },
    {
     "data": {
      "image/png": "[encoded data removed]",
      "text/plain": [
       "<Figure size 432x288 with 1 Axes>"
      ]
     },
     "metadata": {
      "needs_background": "light"
     },
     "output_type": "display_data"
    }
   ],
   "source": [
    "plt.errorbar(xi, yi, yerr=si,fmt='mo')\n",
    "plt.xlabel(\"x_i\")\n",
    "plt.ylabel(\"y_i\")\n",
    "yfi = mf*xi+cf\n",
    "plt.plot(xi,yfi,\"g-\")"
   ]
  },
  {
   "cell_type": "code",
   "execution_count": null,
   "id": "af8c57c8",
   "metadata": {},
   "outputs": [],
   "source": [
    "def func(x, a, b):\n",
    "    return a*x+b\n",
    "pars, covs = fit.curve_fit(func, xi, yi, sigma=si, absolute_sigma=True)\n",
    "print(pars, covs)\n",
    "print(mf,cf,dmf2,dcf2,cov)"
   ]
  },
  {
   "cell_type": "code",
   "execution_count": null,
   "id": "fa5e46c6",
   "metadata": {},
   "outputs": [],
   "source": [
    "plt.errorbar(xi, yi, yerr=si,fmt='mo')\n",
    "plt.xlabel(\"x_i\")\n",
    "plt.ylabel(\"y_i\")\n",
    "yfi = pars[0]*xi + pars[1]\n",
    "plt.plot(xi,yfi,\"g-\")\n",
    "#yfi = mf*xi + cf\n",
    "#plt.plot(xi,yfi,\"r--\")"
   ]
  },
  {
   "cell_type": "code",
   "execution_count": null,
   "id": "4ceb590d",
   "metadata": {},
   "outputs": [],
   "source": [
    "def chisq(p0, p1, x, y, s):\n",
    "    return np.sum(( (y - p0*x - p1 ) / s )**2 )\n",
    "Np = 10\n",
    "chi2 = np.zeros((Np, Np))\n",
    "mf = np.linspace( pars[0]-3.*np.sqrt(covs[0][0]), pars[0]+3.*np.sqrt(covs[0][0]),Np)\n",
    "cf = np.linspace( pars[1]-3.*np.sqrt(covs[1][1]), pars[1]+3.*np.sqrt(covs[1][1]),Np)\n",
    "print(mf,cf)\n",
    "im = 0\n",
    "for xm in mf:\n",
    "    ic = 0 \n",
    "    for yc in cf:\n",
    "        chi2[im][ic] = chisq(xm,yc,xi,yi,si)\n",
    "        #print(xm,yc,chi2[im][ic])\n",
    "        ic += 1\n",
    "    im += 1 \n",
    "plt.contourf(mf,cf,chi2,15)"
   ]
  }
 ],
 "metadata": {
  "kernelspec": {
   "display_name": "Python 3",
   "language": "python",
   "name": "python3"
  },
  "language_info": {
   "codemirror_mode": {
    "name": "ipython",
    "version": 3
   },
   "file_extension": ".py",
   "mimetype": "text/x-python",
   "name": "python",
   "nbconvert_exporter": "python",
   "pygments_lexer": "ipython3",
   "version": "3.8.8"
  }
 },
 "nbformat": 4,
 "nbformat_minor": 5
}
