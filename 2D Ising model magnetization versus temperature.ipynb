{
 "cells": [
  {
   "cell_type": "code",
   "execution_count": 1,
   "id": "89a786cd",
   "metadata": {},
   "outputs": [],
   "source": [
    "import numpy as np\n",
    "import matplotlib.pyplot as plt"
   ]
  },
  {
   "cell_type": "code",
   "execution_count": 2,
   "id": "491d4047",
   "metadata": {},
   "outputs": [],
   "source": [
    "def initialstate(N):   # random N x N initial spin states\n",
    "\n",
    "    state = 2*np.random.randint(2, size=(N,N))-1\n",
    "    return state\n",
    "\n",
    "def calcEnergy(J,config): # calculate energy\n",
    "\n",
    "    energy = 0 \n",
    "    for i in range( len( config)):   \n",
    "        for j in range( len( config)):\n",
    "            S = config[i,j]\n",
    "            ngbrs = config[(i+1)%N, j] + config[i,(j+1)%N] + config[(i-1)%N, j] + config[i,(j-1)%N] # assumes wrap-around\n",
    "            energy += -J*ngbrs*S  # / 2. compensate for double-counting\n",
    "    return energy / 2.\n",
    "\n",
    "def calcMag(J,config): # calc magnetization\n",
    "\n",
    "    mag = np.sum(config)\n",
    "    return mag"
   ]
  },
  {
   "cell_type": "code",
   "execution_count": 3,
   "id": "d93c40a7",
   "metadata": {},
   "outputs": [
    {
     "name": "stdout",
     "output_type": "stream",
     "text": [
      "[[-1 -1 -1  1 -1 -1 -1  1 -1  1  1 -1  1 -1 -1  1 -1  1  1  1]\n",
      " [-1 -1 -1  1  1 -1  1 -1  1 -1 -1  1  1 -1  1 -1  1 -1  1  1]\n",
      " [ 1 -1  1  1  1 -1  1  1  1  1  1  1  1  1  1 -1 -1  1  1  1]\n",
      " [-1 -1 -1 -1  1  1  1 -1  1  1  1 -1 -1 -1  1  1 -1 -1  1  1]\n",
      " [ 1 -1  1 -1  1  1 -1 -1  1  1 -1 -1 -1  1 -1  1  1  1 -1 -1]\n",
      " [ 1 -1 -1  1  1 -1 -1  1  1 -1  1 -1  1  1  1  1  1 -1 -1  1]\n",
      " [ 1  1 -1  1 -1  1  1  1  1 -1  1 -1  1 -1 -1 -1  1  1  1 -1]\n",
      " [ 1 -1 -1  1 -1 -1  1 -1  1  1  1  1 -1  1  1 -1  1 -1  1 -1]\n",
      " [-1  1  1  1  1  1 -1 -1  1  1  1 -1 -1  1 -1 -1  1  1 -1  1]\n",
      " [ 1  1  1 -1  1  1  1  1  1  1 -1 -1  1  1  1  1  1 -1  1  1]\n",
      " [-1  1 -1 -1  1  1 -1 -1 -1 -1 -1  1  1 -1  1  1  1  1  1  1]\n",
      " [ 1  1 -1 -1  1  1 -1 -1 -1  1  1  1  1 -1 -1  1 -1 -1 -1  1]\n",
      " [ 1  1  1 -1  1 -1  1 -1  1 -1  1  1  1  1  1  1 -1  1 -1  1]\n",
      " [-1 -1 -1 -1 -1  1 -1  1  1 -1 -1  1  1  1 -1 -1  1  1 -1 -1]\n",
      " [-1 -1 -1 -1  1  1  1 -1 -1 -1 -1  1 -1  1  1  1 -1  1  1 -1]\n",
      " [ 1  1  1 -1  1 -1 -1 -1  1  1  1  1  1  1 -1  1 -1 -1 -1  1]\n",
      " [ 1  1  1 -1 -1  1 -1  1 -1 -1 -1 -1 -1  1  1  1 -1  1 -1 -1]\n",
      " [ 1 -1  1 -1 -1 -1  1 -1  1 -1  1 -1 -1  1 -1 -1 -1  1  1 -1]\n",
      " [-1  1  1  1 -1 -1 -1  1 -1  1 -1  1  1  1 -1 -1  1 -1  1  1]\n",
      " [ 1  1 -1 -1  1 -1  1  1 -1  1 -1 -1 -1  1  1 -1  1  1 -1  1]] 1\n"
     ]
    },
    {
     "data": {
      "image/png": "[encoded data removed]",
      "text/plain": [
       "<Figure size 432x288 with 1 Axes>"
      ]
     },
     "metadata": {
      "needs_background": "light"
     },
     "output_type": "display_data"
    }
   ],
   "source": [
    "J = 1.0                    # spin.spin interaction strength in units of kT\n",
    "N = 20                     # size of lattice, N x N (default=10)\n",
    "config = initialstate(N)   # initialize randomized state\n",
    "plt.imshow(config)         # plot initial state\n",
    "print(config,config[-1,0])"
   ]
  },
  {
   "cell_type": "code",
   "execution_count": 4,
   "id": "bba07f0b",
   "metadata": {},
   "outputs": [],
   "source": [
    "NJs = 10\n",
    "Js = np.linspace( 0.0, 2.0, num=NJs)\n",
    "EvT = []                     # energy versus temperature\n",
    "MvT = []                     # energy versus temperature\n",
    "Nsteps = 4000       \n",
    "\n",
    "for k in range(NJs):\n",
    "\n",
    "    Ei = []                     # energy versus step index\n",
    "    E = calcEnergy(J,config)      # initial quantum state energy\n",
    "    Ei.append(E)\n",
    "\n",
    "    Mi = []                     # energy versus step index\n",
    "    M = calcMag(J,config)         # initial quantum state energy\n",
    "    Mi.append(M)\n",
    "\n",
    "    for m in range(Nsteps):\n",
    "\n",
    "        i = np.random.randint(0,N) # choose spin to flip\n",
    "        j = np.random.randint(0,N) \n",
    "\n",
    "        Eo = calcEnergy(Js[k],config)\n",
    "        config[i,j] *= -1\n",
    "        E = calcEnergy(Js[k],config)\n",
    "    \n",
    "        if np.random.random() > np.exp(-(E-Eo)): # if true reject move \n",
    "            config[i,j] *= -1   \n",
    "\n",
    "        M = calcMag(Js[k],config)\n",
    "        \n",
    "        Ei.append(E)\n",
    "        Mi.append(M)\n",
    "    \n",
    "    EvT.append(Ei[Nsteps])\n",
    "    MvT.append(Mi[Nsteps])    "
   ]
  },
  {
   "cell_type": "code",
   "execution_count": null,
   "id": "9415ef75",
   "metadata": {},
   "outputs": [],
   "source": [
    "# plot internal energy versus microstate step\n",
    "plt.plot(Js,MvT)\n",
    "plt.xlabel(\"dipole strength (kT)\")\n",
    "plt.ylabel(\"magnetization, M =Σs\")"
   ]
  },
  {
   "cell_type": "code",
   "execution_count": 8,
   "id": "969d0468",
   "metadata": {},
   "outputs": [
    {
     "data": {
      "text/plain": [
       "0.8888888888888888"
      ]
     },
     "execution_count": 8,
     "metadata": {},
     "output_type": "execute_result"
    },
    {
     "data": {
      "image/png": "[encoded data removed]",
      "text/plain": [
       "<Figure size 432x288 with 1 Axes>"
      ]
     },
     "metadata": {
      "needs_background": "light"
     },
     "output_type": "display_data"
    }
   ],
   "source": [
    "# plot internal energy versus microstate step\n",
    "plt.plot(Js,EvT)\n",
    "plt.xlabel(\"dipole strength (kT)\")\n",
    "plt.ylabel(\"system energy, kT\")\n",
    "Js[4]"
   ]
  },
  {
   "cell_type": "code",
   "execution_count": null,
   "id": "539849ad",
   "metadata": {},
   "outputs": [],
   "source": [
    "# plot internal energy versus microstate step\n",
    "plt.plot(Mi)\n",
    "plt.xlabel(\"step\")\n",
    "plt.ylabel(\"magnetization\")"
   ]
  },
  {
   "cell_type": "code",
   "execution_count": null,
   "id": "78580aff",
   "metadata": {},
   "outputs": [],
   "source": [
    "plt.imshow(config)"
   ]
  },
  {
   "cell_type": "code",
   "execution_count": null,
   "id": "c55ec7a2",
   "metadata": {},
   "outputs": [],
   "source": [
    "plt.hist(config, bins=20, range=(-2,2))\n",
    "plt.xlabel(\"quantum number, n\")\n",
    "plt.ylabel(\"occupancy\")"
   ]
  },
  {
   "cell_type": "code",
   "execution_count": null,
   "id": "931d5164",
   "metadata": {},
   "outputs": [],
   "source": []
  }
 ],
 "metadata": {
  "kernelspec": {
   "display_name": "Python 3",
   "language": "python",
   "name": "python3"
  },
  "language_info": {
   "codemirror_mode": {
    "name": "ipython",
    "version": 3
   },
   "file_extension": ".py",
   "mimetype": "text/x-python",
   "name": "python",
   "nbconvert_exporter": "python",
   "pygments_lexer": "ipython3",
   "version": "3.8.8"
  }
 },
 "nbformat": 4,
 "nbformat_minor": 5
}
