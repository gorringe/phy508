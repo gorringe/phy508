{
 "cells": [
  {
   "cell_type": "code",
   "execution_count": 1,
   "id": "e32ac2e7",
   "metadata": {},
   "outputs": [],
   "source": [
    "import matplotlib.pyplot as plt\n",
    "import scipy.optimize as fit\n",
    "import numpy as np"
   ]
  },
  {
   "cell_type": "code",
   "execution_count": 2,
   "id": "c3a762ae",
   "metadata": {},
   "outputs": [],
   "source": [
    "tau = 26.0             # lifetime of charged pion (ns)\n",
    "dt = 1.0               # size of time interval (ns)\n",
    "tmax = 100             # time range (ns)\n",
    "prob = dt/tau          # decay probability in interval dt"
   ]
  },
  {
   "cell_type": "code",
   "execution_count": 3,
   "id": "27d15177",
   "metadata": {},
   "outputs": [],
   "source": [
    "time = np.arange(0.0,tmax,dt,dtype=int)\n",
    "Npdata = np.zeros(tmax,dtype=float)\n",
    "Nmdata = np.zeros(tmax,dtype=float)\n",
    "dNpdata = np.zeros(tmax,dtype=float)\n",
    "dNmdata = np.zeros(tmax,dtype=float)"
   ]
  },
  {
   "cell_type": "code",
   "execution_count": 5,
   "id": "64196aab",
   "metadata": {},
   "outputs": [],
   "source": [
    "Npi = 10000            # pion number\n",
    "Nmu = 0                # muon number\n",
    "for it in range(tmax): # loop over time steps\n",
    "    Npdata[it] = Npi\n",
    "    Nmdata[it] = Nmu\n",
    "    dNpdata[it] = np.sqrt(Npi)\n",
    "    dNmdata[it] = np.sqrt(Nmu)\n",
    "    Ndecay = 0\n",
    "    for ip in range(Npi): # loop over surviving pions\n",
    "        if np.random.ranf() < prob:\n",
    "            Ndecay += 1\n",
    "    Npi -= Ndecay\n",
    "    Nmu += Ndecay"
   ]
  },
  {
   "cell_type": "code",
   "execution_count": 6,
   "id": "9c208a04",
   "metadata": {},
   "outputs": [
    {
     "data": {
      "image/png": "[encoded data removed]",
      "text/plain": [
       "<Figure size 432x288 with 1 Axes>"
      ]
     },
     "metadata": {
      "needs_background": "light"
     },
     "output_type": "display_data"
    }
   ],
   "source": [
    "plt.plot(time,Npdata,\"m.\")\n",
    "plt.plot(time,Nmdata,\"g.\")\n",
    "plt.xlabel(\"time [ns]\")\n",
    "plt.ylabel(\"Npi, Nmu\")\n",
    "plt.savefig('Npi Nmu versus time.png')"
   ]
  },
  {
   "cell_type": "code",
   "execution_count": null,
   "id": "700c00ac",
   "metadata": {},
   "outputs": [],
   "source": [
    "# set fit range\n",
    "tmin = 10\n",
    "tmax = 100\n",
    "#time = time[tmin:tmax]\n",
    "#Npdata = Npdata[tmin:tmax]\n",
    "#Nmdata = Nmdata[tmin:tmax]\n",
    "#dNpdata = dNpdata[tmin:tmax]\n",
    "#dNmdata = dNmdata[tmin:tmax]"
   ]
  },
  {
   "cell_type": "code",
   "execution_count": null,
   "id": "d039c9c2",
   "metadata": {},
   "outputs": [],
   "source": [
    "def fpi(t, p1, p2):\n",
    "    return p1*np.exp(-t/p2)\n",
    "pars, covs = fit.curve_fit(fpi, time[tmin:tmax], Npdata[tmin:tmax], p0=[Npi,25.])\n",
    "Npfit1 = fpi(time, pars[0], pars[1])\n",
    "plt.plot(time,Npdata,\"m.\")\n",
    "plt.plot(time,Npfit1,\"b-\")\n",
    "print( \"pion counting method, tau_pi %5.2f +/- %5.2f\" % (pars[1], np.sqrt(covs[1][1])))\n"
   ]
  },
  {
   "cell_type": "code",
   "execution_count": null,
   "id": "325eb54d",
   "metadata": {},
   "outputs": [],
   "source": [
    "def fmu(t, p1, p2):\n",
    "    return p1*(1.-np.exp(-t/p2))\n",
    "pars, covs = fit.curve_fit(fmu, time, Nmdata, p0=[0.,25.])\n",
    "Nmfit1 = fmu(time, pars[0], pars[1])\n",
    "plt.plot(time,Nmdata,\"g.\")\n",
    "plt.plot(time,Nmfit1,\"r-\")\n",
    "print( \"muon counting method, tau_pi %5.2f +/- %5.2f\" % (pars[1], np.sqrt(covs[1][1])))"
   ]
  },
  {
   "cell_type": "code",
   "execution_count": null,
   "id": "5c7c6db5",
   "metadata": {},
   "outputs": [],
   "source": [
    "def fpi(t, p1, p2):\n",
    "    return p1*np.exp(-t/p2)\n",
    "pars, covs = fit.curve_fit(fpi, time, Npdata, sigma = dNpdata, p0=[Npi,25.], absolute_sigma=True)\n",
    "Npfit2 = fpi(time, pars[0], pars[1])\n",
    "plt.plot(time,Npdata,\"m.\")\n",
    "plt.plot(time,Npfit2,\"b-\")\n",
    "print( \"pion counting method, tau_pi %5.2f +/- %5.2f\" % (pars[1], np.sqrt(covs[1][1])))"
   ]
  },
  {
   "cell_type": "code",
   "execution_count": null,
   "id": "80759bab",
   "metadata": {},
   "outputs": [],
   "source": [
    "def fmu(t, p1, p2):\n",
    "    return p1*(1.-np.exp(-t/p2))\n",
    "pars, covs = fit.curve_fit(fmu, time, Nmdata, sigma = dNmdata, p0=[0.,25.], absolute_sigma=True)\n",
    "Nmfit2 = fmu(time, pars[0], pars[1])\n",
    "#dNmfit = np.sqrt(Nmfit2)\n",
    "#pars, covs = fit.curve_fit(fmu, time, Nmdata, sigma = dNmfit, p0=[0.,25.], absolute_sigma=True)\n",
    "#Nmfit3 = fmu(time, pars[0], pars[1])\n",
    "plt.plot(time,Nmdata,\"g.\")\n",
    "plt.plot(time,Nmfit2,\"r-\")\n",
    "print( \"muon counting method, tau_pi %5.2f +/- %5.2f\" % (pars[1], np.sqrt(covs[1][1])))"
   ]
  },
  {
   "cell_type": "code",
   "execution_count": null,
   "id": "55e9ba8e",
   "metadata": {},
   "outputs": [],
   "source": [
    "dNpfit = np.sqrt(Npfit2)\n",
    "pars, covs = fit.curve_fit(fpi, time, Npdata, sigma = dNpfit, p0=[Npi,25.], absolute_sigma=True)\n",
    "Npfit3 = fpi(time, pars[0], pars[1])\n",
    "plt.plot(time,Npdata,\"m.\")\n",
    "plt.plot(time,Npfit3,\"b-\")\n",
    "print( \"pion counting method, tau_pi %5.2f +/- %5.2f\" % (pars[1], np.sqrt(covs[1][1])))"
   ]
  },
  {
   "cell_type": "code",
   "execution_count": null,
   "id": "91b4d63d",
   "metadata": {},
   "outputs": [],
   "source": [
    "dNmfit = np.sqrt(Nmfit2)\n",
    "pars, covs = fit.curve_fit(fmu, time, Nmdata, sigma = dNmfit, p0=[0.,25.], absolute_sigma=True)\n",
    "Nmfit3 = fmu(time, pars[0], pars[1])\n",
    "plt.plot(time,Nmdata,\"g.\")\n",
    "plt.plot(time,Nmfit3,\"r-\")\n",
    "print( \"muon counting method, tau_pi %5.2f +/- %5.2f\" % (pars[1], np.sqrt(covs[1][1])))"
   ]
  },
  {
   "cell_type": "code",
   "execution_count": null,
   "id": "d6ad5a46",
   "metadata": {},
   "outputs": [],
   "source": [
    "plt.plot(time,Npfit2-Npfit1,\"b-\")\n",
    "plt.plot(time,Npfit3-Npfit2,\"m-\")"
   ]
  },
  {
   "cell_type": "code",
   "execution_count": null,
   "id": "78132e4d",
   "metadata": {},
   "outputs": [],
   "source": [
    "plt.plot(time,Nmfit2-Nmfit1,\"b-\")\n",
    "plt.plot(time,Nmfit3-Nmfit2,\"m-\")"
   ]
  },
  {
   "cell_type": "code",
   "execution_count": null,
   "id": "8095ec6f",
   "metadata": {},
   "outputs": [],
   "source": []
  }
 ],
 "metadata": {
  "kernelspec": {
   "display_name": "Python 3",
   "language": "python",
   "name": "python3"
  },
  "language_info": {
   "codemirror_mode": {
    "name": "ipython",
    "version": 3
   },
   "file_extension": ".py",
   "mimetype": "text/x-python",
   "name": "python",
   "nbconvert_exporter": "python",
   "pygments_lexer": "ipython3",
   "version": "3.8.8"
  }
 },
 "nbformat": 4,
 "nbformat_minor": 5
}
