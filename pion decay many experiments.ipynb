{
 "cells": [
  {
   "cell_type": "code",
   "execution_count": 2,
   "id": "e32ac2e7",
   "metadata": {},
   "outputs": [],
   "source": [
    "import matplotlib.pyplot as plt\n",
    "import scipy.optimize as fit\n",
    "import numpy as np"
   ]
  },
  {
   "cell_type": "code",
   "execution_count": 32,
   "id": "d32e5e71",
   "metadata": {},
   "outputs": [],
   "source": [
    "def variance(x):\n",
    "    var = 0\n",
    "    for xi in x:\n",
    "        var += (xi-avg)**2\n",
    "    var /= len(x) - 1\n",
    "    return var"
   ]
  },
  {
   "cell_type": "code",
   "execution_count": 42,
   "id": "c3a762ae",
   "metadata": {},
   "outputs": [],
   "source": [
    "Nexp = 100              # number of experiments\n",
    "tau = 26.0             # lifetime of charged pion (ns)\n",
    "dt = 1.0               # size of time interval (ns)\n",
    "tmax = 100             # time range (ns)\n",
    "prob = dt/tau          # decay probability in interval dt"
   ]
  },
  {
   "cell_type": "code",
   "execution_count": 43,
   "id": "f033e7b7",
   "metadata": {},
   "outputs": [
    {
     "name": "stdout",
     "output_type": "stream",
     "text": [
      "(100, 100)\n"
     ]
    }
   ],
   "source": [
    "time = np.arange(0.0,tmax,dt,dtype=int)\n",
    "Npdata = np.zeros((tmax,Nexp),dtype=float)\n",
    "Nmdata = np.zeros((tmax,Nexp),dtype=float)\n",
    "dNpdata = np.zeros((tmax,Nexp),dtype=float)\n",
    "dNmdata = np.zeros((tmax,Nexp),dtype=float)\n",
    "print(np.shape(Npdata))"
   ]
  },
  {
   "cell_type": "code",
   "execution_count": 44,
   "id": "64196aab",
   "metadata": {},
   "outputs": [],
   "source": [
    "for ie in range(Nexp):    \n",
    "    Npi = 100               # pion number\n",
    "    Nmu = 0                # muon number\n",
    "    for it in range(tmax): # loop over time steps\n",
    "        Npdata[it][ie] = Npi\n",
    "        Nmdata[it][ie] = Nmu\n",
    "        dNpdata[it][ie] = np.sqrt(Npi)\n",
    "        dNmdata[it][ie] = np.sqrt(Nmu)\n",
    "        Ndecay = 0\n",
    "        for ip in range(Npi): # loop over surviving pions\n",
    "            if np.random.ranf() < prob:\n",
    "                Ndecay += 1\n",
    "        Npi -= Ndecay\n",
    "        Nmu += Ndecay"
   ]
  },
  {
   "cell_type": "code",
   "execution_count": 45,
   "id": "9c208a04",
   "metadata": {},
   "outputs": [
    {
     "data": {
      "text/plain": [
       "Text(0, 0.5, 'Npi, Nmu')"
      ]
     },
     "execution_count": 45,
     "metadata": {},
     "output_type": "execute_result"
    },
    {
     "data": {
      "image/png": "[encoded data removed]",
      "text/plain": [
       "<Figure size 432x288 with 1 Axes>"
      ]
     },
     "metadata": {
      "needs_background": "light"
     },
     "output_type": "display_data"
    }
   ],
   "source": [
    "plt.plot(time,Npdata[:,0],\"m.\")\n",
    "plt.plot(time,Nmdata[:,0],\"g.\")\n",
    "plt.xlabel(\"time [ns]\")\n",
    "plt.ylabel(\"Npi, Nmu\")"
   ]
  },
  {
   "cell_type": "code",
   "execution_count": 46,
   "id": "258c50df",
   "metadata": {},
   "outputs": [],
   "source": [
    "# set fit range\n",
    "tmin = 10\n",
    "tmax = 100\n",
    "time = time[tmin:tmax]\n",
    "Npdata = Npdata[tmin:tmax,:]\n",
    "Nmdata = Nmdata[tmin:tmax,:]\n",
    "dNpdata = dNpdata[tmin:tmax,:]\n",
    "dNmdata = dNmdata[tmin:tmax,:]"
   ]
  },
  {
   "cell_type": "code",
   "execution_count": 51,
   "id": "d039c9c2",
   "metadata": {},
   "outputs": [
    {
     "name": "stdout",
     "output_type": "stream",
     "text": [
      "pion counting method, tau_pi 22.12 +/-  0.18\n",
      "pion counting mean, tau_pi 25.24 +/-  3.13\n"
     ]
    },
    {
     "data": {
      "image/png": "[encoded data removed]",
      "text/plain": [
       "<Figure size 432x288 with 1 Axes>"
      ]
     },
     "metadata": {
      "needs_background": "light"
     },
     "output_type": "display_data"
    }
   ],
   "source": [
    "def fpi(t, p1, p2):\n",
    "    return p1*np.exp(-t/p2)\n",
    "taupi1 = []\n",
    "for ie in range(Nexp):  \n",
    "    pars, covs = fit.curve_fit(fpi, time, Npdata[:,ie], p0=[Npi,25.])\n",
    "    Npfit1 = fpi(time, pars[0], pars[1])\n",
    "    taupi1.append(pars[1])\n",
    "print( \"pion counting method, tau_pi %5.2f +/- %5.2f\" % (pars[1], np.sqrt(covs[1][1])))\n",
    "avg = sum(taupi1)/len(taupi1)\n",
    "sdv = np.sqrt(variance(taupi1))\n",
    "print(\"pion counting mean, tau_pi %5.2f +/- %5.2f\" % (avg,sdv))\n",
    "cnts, bins, bars = plt.hist(taupi1, bins=10, label=\"taupi1\")"
   ]
  },
  {
   "cell_type": "code",
   "execution_count": 56,
   "id": "325eb54d",
   "metadata": {},
   "outputs": [
    {
     "name": "stdout",
     "output_type": "stream",
     "text": [
      "muon counting method, tau_pi 32.58 +/-  0.86\n",
      "muon counting mean, tau_mu 25.98 +/-  3.88\n"
     ]
    },
    {
     "data": {
      "image/png": "[encoded data removed]",
      "text/plain": [
       "<Figure size 432x288 with 1 Axes>"
      ]
     },
     "metadata": {
      "needs_background": "light"
     },
     "output_type": "display_data"
    }
   ],
   "source": [
    "def fmu(t, p1, p2):\n",
    "    return p1*(1.-np.exp(-t/p2))\n",
    "taumu1 = []\n",
    "for ie in range(Nexp):  \n",
    "    pars, covs = fit.curve_fit(fmu, time, Nmdata[:,ie], p0=[0.,25.])\n",
    "    Nmfit1 = fmu(time, pars[0], pars[1])\n",
    "    taumu1.append(pars[1])\n",
    "print( \"muon counting method, tau_pi %5.2f +/- %5.2f\" % (pars[1], np.sqrt(covs[1][1])))\n",
    "avg = sum(taumu1)/len(taumu1)\n",
    "sdv = np.sqrt(variance(taumu1))\n",
    "print(\"muon counting mean, tau_mu %5.2f +/- %5.2f\" % (avg,sdv))\n",
    "cnts, bins, bars = plt.hist(taumu1, bins=10, label=\"taumu1\")"
   ]
  },
  {
   "cell_type": "code",
   "execution_count": 57,
   "id": "5c7c6db5",
   "metadata": {},
   "outputs": [
    {
     "name": "stdout",
     "output_type": "stream",
     "text": [
      "pion counting method, tau_pi 21.39 +/-  0.58\n",
      "pion counting mean, tau_pi 25.26 +/-  3.04\n"
     ]
    },
    {
     "data": {
      "image/png": "[encoded data removed]",
      "text/plain": [
       "<Figure size 432x288 with 1 Axes>"
      ]
     },
     "metadata": {
      "needs_background": "light"
     },
     "output_type": "display_data"
    }
   ],
   "source": [
    "def fpi(t, p1, p2):\n",
    "    return p1*np.exp(-t/p2)\n",
    "taupi2 = []\n",
    "for ie in range(Nexp):  \n",
    "    pars, covs = fit.curve_fit(fpi, time, Npdata[:,ie], sigma = dNpdata[:,ie], p0=[Npi,25.], absolute_sigma=True)\n",
    "    Npfit2 = fpi(time, pars[0], pars[1])\n",
    "    taupi2.append(pars[1])\n",
    "print( \"pion counting method, tau_pi %5.2f +/- %5.2f\" % (pars[1], np.sqrt(covs[1][1])))\n",
    "avg = sum(taupi2)/len(taupi2)\n",
    "sdv = np.sqrt(variance(taupi2))\n",
    "print(\"pion counting mean, tau_pi %5.2f +/- %5.2f\" % (avg,sdv))\n",
    "cnts, bins, bars = plt.hist(taupi2, bins=10, label=\"taupi2\")"
   ]
  },
  {
   "cell_type": "code",
   "execution_count": 49,
   "id": "80759bab",
   "metadata": {},
   "outputs": [
    {
     "name": "stdout",
     "output_type": "stream",
     "text": [
      "muon counting method, tau_pi 28.79 +/-  1.85\n"
     ]
    },
    {
     "data": {
      "image/png": "[encoded data removed]",
      "text/plain": [
       "<Figure size 432x288 with 1 Axes>"
      ]
     },
     "metadata": {
      "needs_background": "light"
     },
     "output_type": "display_data"
    }
   ],
   "source": [
    "def fmu(t, p1, p2):\n",
    "    return p1*(1.-np.exp(-t/p2))\n",
    "pars, covs = fit.curve_fit(fmu, time, Nmdata, sigma = dNmdata, p0=[0.,25.], absolute_sigma=True)\n",
    "Nmfit2 = fmu(time, pars[0], pars[1])\n",
    "#dNmfit = np.sqrt(Nmfit2)\n",
    "#pars, covs = fit.curve_fit(fmu, time, Nmdata, sigma = dNmfit, p0=[0.,25.], absolute_sigma=True)\n",
    "#Nmfit3 = fmu(time, pars[0], pars[1])\n",
    "plt.plot(time,Nmdata,\"g.\")\n",
    "plt.plot(time,Nmfit2,\"r-\")\n",
    "print( \"muon counting method, tau_pi %5.2f +/- %5.2f\" % (pars[1], np.sqrt(covs[1][1])))"
   ]
  },
  {
   "cell_type": "code",
   "execution_count": 62,
   "id": "c91ce14c",
   "metadata": {},
   "outputs": [
    {
     "name": "stdout",
     "output_type": "stream",
     "text": [
      "pion counting method, tau_pi 21.63 +/-  0.59\n",
      "pion counting mean, tau_pi 25.56 +/-  3.72\n"
     ]
    },
    {
     "data": {
      "image/png": "[encoded data removed]",
      "text/plain": [
       "<Figure size 432x288 with 1 Axes>"
      ]
     },
     "metadata": {
      "needs_background": "light"
     },
     "output_type": "display_data"
    }
   ],
   "source": [
    "dNpfit = np.sqrt(Npfit2)\n",
    "taupi3 = []\n",
    "for ie in range(Nexp):  \n",
    "    pars, covs = fit.curve_fit(fpi, time, Npdata[:,ie], sigma = dNpfit, p0=[Npi,25.], absolute_sigma=True)\n",
    "    Npfit3 = fpi(time, pars[0], pars[1])\n",
    "    taupi3.append(pars[1])\n",
    "print( \"pion counting method, tau_pi %5.2f +/- %5.2f\" % (pars[1], np.sqrt(covs[1][1])))\n",
    "avg = sum(taupi3)/len(taupi3)\n",
    "sdv = np.sqrt(variance(taupi3))\n",
    "print(\"pion counting mean, tau_pi %5.2f +/- %5.2f\" % (avg,sdv))\n",
    "cnts, bins, bars = plt.hist(taupi3, bins=10, label=\"taupi3\")"
   ]
  },
  {
   "cell_type": "code",
   "execution_count": 51,
   "id": "fef871e7",
   "metadata": {},
   "outputs": [
    {
     "name": "stdout",
     "output_type": "stream",
     "text": [
      "muon counting method, tau_pi 28.65 +/-  1.83\n"
     ]
    },
    {
     "data": {
      "image/png": "[encoded data removed]",
      "text/plain": [
       "<Figure size 432x288 with 1 Axes>"
      ]
     },
     "metadata": {
      "needs_background": "light"
     },
     "output_type": "display_data"
    }
   ],
   "source": [
    "dNmfit = np.sqrt(Nmfit2)\n",
    "pars, covs = fit.curve_fit(fmu, time, Nmdata, sigma = dNmfit, p0=[0.,25.], absolute_sigma=True)\n",
    "Nmfit3 = fmu(time, pars[0], pars[1])\n",
    "plt.plot(time,Nmdata,\"g.\")\n",
    "plt.plot(time,Nmfit3,\"r-\")\n",
    "print( \"muon counting method, tau_pi %5.2f +/- %5.2f\" % (pars[1], np.sqrt(covs[1][1])))"
   ]
  },
  {
   "cell_type": "code",
   "execution_count": 54,
   "id": "adaac7d7",
   "metadata": {},
   "outputs": [
    {
     "data": {
      "text/plain": [
       "[<matplotlib.lines.Line2D at 0x7f6928790040>]"
      ]
     },
     "execution_count": 54,
     "metadata": {},
     "output_type": "execute_result"
    },
    {
     "data": {
      "image/png": "[encoded data removed]",
      "text/plain": [
       "<Figure size 432x288 with 1 Axes>"
      ]
     },
     "metadata": {
      "needs_background": "light"
     },
     "output_type": "display_data"
    }
   ],
   "source": [
    "plt.plot(time,Npfit2-Npfit1,\"b-\")\n",
    "plt.plot(time,Npfit3-Npfit2,\"m-\")"
   ]
  },
  {
   "cell_type": "code",
   "execution_count": 55,
   "id": "f84f2173",
   "metadata": {},
   "outputs": [
    {
     "data": {
      "text/plain": [
       "[<matplotlib.lines.Line2D at 0x7f6928767190>]"
      ]
     },
     "execution_count": 55,
     "metadata": {},
     "output_type": "execute_result"
    },
    {
     "data": {
      "image/png": "[encoded data removed]",
      "text/plain": [
       "<Figure size 432x288 with 1 Axes>"
      ]
     },
     "metadata": {
      "needs_background": "light"
     },
     "output_type": "display_data"
    }
   ],
   "source": [
    "plt.plot(time,Nmfit2-Nmfit1,\"b-\")\n",
    "plt.plot(time,Nmfit3-Nmfit2,\"m-\")"
   ]
  },
  {
   "cell_type": "code",
   "execution_count": null,
   "id": "afd42064",
   "metadata": {},
   "outputs": [],
   "source": []
  }
 ],
 "metadata": {
  "kernelspec": {
   "display_name": "Python 3",
   "language": "python",
   "name": "python3"
  },
  "language_info": {
   "codemirror_mode": {
    "name": "ipython",
    "version": 3
   },
   "file_extension": ".py",
   "mimetype": "text/x-python",
   "name": "python",
   "nbconvert_exporter": "python",
   "pygments_lexer": "ipython3",
   "version": "3.8.8"
  }
 },
 "nbformat": 4,
 "nbformat_minor": 5
}
