{
 "cells": [
  {
   "cell_type": "code",
   "execution_count": 1,
   "id": "25445ef9",
   "metadata": {},
   "outputs": [
    {
     "name": "stdout",
     "output_type": "stream",
     "text": [
      "temperature (deg. C)-10.\n"
     ]
    }
   ],
   "source": [
    "t = float( input(\"temperature (deg. C)\"))"
   ]
  },
  {
   "cell_type": "code",
   "execution_count": 2,
   "id": "d2cad261",
   "metadata": {},
   "outputs": [
    {
     "name": "stdout",
     "output_type": "stream",
     "text": [
      "ice\n"
     ]
    }
   ],
   "source": [
    "if t > 100:\n",
    "    print(\"steam\")\n",
    "elif t > 0:\n",
    "    print(\"water\")\n",
    "else:\n",
    "    print(\"ice\")"
   ]
  },
  {
   "cell_type": "code",
   "execution_count": null,
   "id": "f437547f",
   "metadata": {},
   "outputs": [],
   "source": []
  }
 ],
 "metadata": {
  "kernelspec": {
   "display_name": "Python 3",
   "language": "python",
   "name": "python3"
  },
  "language_info": {
   "codemirror_mode": {
    "name": "ipython",
    "version": 3
   },
   "file_extension": ".py",
   "mimetype": "text/x-python",
   "name": "python",
   "nbconvert_exporter": "python",
   "pygments_lexer": "ipython3",
   "version": "3.8.8"
  }
 },
 "nbformat": 4,
 "nbformat_minor": 5
}
