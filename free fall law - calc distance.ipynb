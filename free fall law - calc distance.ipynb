{
 "cells": [
  {
   "cell_type": "code",
   "execution_count": 6,
   "id": "920887e2",
   "metadata": {},
   "outputs": [],
   "source": [
    "g = 9.8\n"
   ]
  },
  {
   "cell_type": "code",
   "execution_count": 7,
   "id": "5c7c3d5e",
   "metadata": {},
   "outputs": [
    {
     "name": "stdout",
     "output_type": "stream",
     "text": [
      "time taken (seconds)2.5\n"
     ]
    }
   ],
   "source": [
    "y = float( input(\"time taken (seconds)\") )"
   ]
  },
  {
   "cell_type": "code",
   "execution_count": 10,
   "id": "5694799e",
   "metadata": {},
   "outputs": [],
   "source": [
    "y = g*t**2/2"
   ]
  },
  {
   "cell_type": "code",
   "execution_count": 11,
   "id": "90c950c4",
   "metadata": {},
   "outputs": [
    {
     "name": "stdout",
     "output_type": "stream",
     "text": [
      "distance fallen (meters)  30.0\n"
     ]
    }
   ],
   "source": [
    "print(\"distance fallen (meters) \", y)"
   ]
  },
  {
   "cell_type": "code",
   "execution_count": null,
   "id": "16bf5a7e",
   "metadata": {},
   "outputs": [],
   "source": []
  }
 ],
 "metadata": {
  "kernelspec": {
   "display_name": "Python 3",
   "language": "python",
   "name": "python3"
  },
  "language_info": {
   "codemirror_mode": {
    "name": "ipython",
    "version": 3
   },
   "file_extension": ".py",
   "mimetype": "text/x-python",
   "name": "python",
   "nbconvert_exporter": "python",
   "pygments_lexer": "ipython3",
   "version": "3.8.8"
  }
 },
 "nbformat": 4,
 "nbformat_minor": 5
}
